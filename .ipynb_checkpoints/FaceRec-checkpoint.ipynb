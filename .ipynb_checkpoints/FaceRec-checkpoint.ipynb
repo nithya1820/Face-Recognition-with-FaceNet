{
 "cells": [
  {
   "cell_type": "code",
   "execution_count": 2,
   "id": "18eb3bc2-b68b-402a-b230-8f76fb7fe8c6",
   "metadata": {},
   "outputs": [
    {
     "name": "stdout",
     "output_type": "stream",
     "text": [
      "Requirement already satisfied: mtcnn in c:\\users\\nithy\\appdata\\local\\programs\\python\\python312\\lib\\site-packages (0.1.1)\n",
      "Requirement already satisfied: keras>=2.0.0 in c:\\users\\nithy\\appdata\\local\\programs\\python\\python312\\lib\\site-packages (from mtcnn) (3.5.0)\n",
      "Requirement already satisfied: opencv-python>=4.1.0 in c:\\users\\nithy\\appdata\\local\\programs\\python\\python312\\lib\\site-packages (from mtcnn) (4.10.0.84)\n",
      "Requirement already satisfied: absl-py in c:\\users\\nithy\\appdata\\local\\programs\\python\\python312\\lib\\site-packages (from keras>=2.0.0->mtcnn) (2.1.0)\n",
      "Requirement already satisfied: numpy in c:\\users\\nithy\\appdata\\local\\programs\\python\\python312\\lib\\site-packages (from keras>=2.0.0->mtcnn) (2.1.1)\n",
      "Requirement already satisfied: rich in c:\\users\\nithy\\appdata\\local\\programs\\python\\python312\\lib\\site-packages (from keras>=2.0.0->mtcnn) (13.8.1)\n",
      "Requirement already satisfied: namex in c:\\users\\nithy\\appdata\\local\\programs\\python\\python312\\lib\\site-packages (from keras>=2.0.0->mtcnn) (0.0.8)\n",
      "Requirement already satisfied: h5py in c:\\users\\nithy\\appdata\\local\\programs\\python\\python312\\lib\\site-packages (from keras>=2.0.0->mtcnn) (3.11.0)\n",
      "Requirement already satisfied: optree in c:\\users\\nithy\\appdata\\local\\programs\\python\\python312\\lib\\site-packages (from keras>=2.0.0->mtcnn) (0.12.1)\n",
      "Requirement already satisfied: ml-dtypes in c:\\users\\nithy\\appdata\\local\\programs\\python\\python312\\lib\\site-packages (from keras>=2.0.0->mtcnn) (0.4.0)\n",
      "Requirement already satisfied: packaging in c:\\users\\nithy\\appdata\\local\\programs\\python\\python312\\lib\\site-packages (from keras>=2.0.0->mtcnn) (24.1)\n",
      "Requirement already satisfied: typing-extensions>=4.5.0 in c:\\users\\nithy\\appdata\\local\\programs\\python\\python312\\lib\\site-packages (from optree->keras>=2.0.0->mtcnn) (4.12.2)\n",
      "Requirement already satisfied: markdown-it-py>=2.2.0 in c:\\users\\nithy\\appdata\\local\\programs\\python\\python312\\lib\\site-packages (from rich->keras>=2.0.0->mtcnn) (3.0.0)\n",
      "Requirement already satisfied: pygments<3.0.0,>=2.13.0 in c:\\users\\nithy\\appdata\\local\\programs\\python\\python312\\lib\\site-packages (from rich->keras>=2.0.0->mtcnn) (2.18.0)\n",
      "Requirement already satisfied: mdurl~=0.1 in c:\\users\\nithy\\appdata\\local\\programs\\python\\python312\\lib\\site-packages (from markdown-it-py>=2.2.0->rich->keras>=2.0.0->mtcnn) (0.1.2)\n"
     ]
    }
   ],
   "source": [
    "!pip install mtcnn"
   ]
  },
  {
   "cell_type": "code",
   "execution_count": 3,
   "id": "7cb332a8-e0aa-4dcf-a124-e52b5f9c4a63",
   "metadata": {},
   "outputs": [
    {
     "name": "stdout",
     "output_type": "stream",
     "text": [
      "Collecting keras_facenet\n",
      "  Downloading keras-facenet-0.3.2.tar.gz (10 kB)\n",
      "  Preparing metadata (setup.py): started\n",
      "  Preparing metadata (setup.py): finished with status 'done'\n",
      "Requirement already satisfied: mtcnn in c:\\users\\nithy\\appdata\\local\\programs\\python\\python312\\lib\\site-packages (from keras_facenet) (0.1.1)\n",
      "Requirement already satisfied: keras>=2.0.0 in c:\\users\\nithy\\appdata\\local\\programs\\python\\python312\\lib\\site-packages (from mtcnn->keras_facenet) (3.5.0)\n",
      "Requirement already satisfied: opencv-python>=4.1.0 in c:\\users\\nithy\\appdata\\local\\programs\\python\\python312\\lib\\site-packages (from mtcnn->keras_facenet) (4.10.0.84)\n",
      "Requirement already satisfied: absl-py in c:\\users\\nithy\\appdata\\local\\programs\\python\\python312\\lib\\site-packages (from keras>=2.0.0->mtcnn->keras_facenet) (2.1.0)\n",
      "Requirement already satisfied: numpy in c:\\users\\nithy\\appdata\\local\\programs\\python\\python312\\lib\\site-packages (from keras>=2.0.0->mtcnn->keras_facenet) (2.1.1)\n",
      "Requirement already satisfied: rich in c:\\users\\nithy\\appdata\\local\\programs\\python\\python312\\lib\\site-packages (from keras>=2.0.0->mtcnn->keras_facenet) (13.8.1)\n",
      "Requirement already satisfied: namex in c:\\users\\nithy\\appdata\\local\\programs\\python\\python312\\lib\\site-packages (from keras>=2.0.0->mtcnn->keras_facenet) (0.0.8)\n",
      "Requirement already satisfied: h5py in c:\\users\\nithy\\appdata\\local\\programs\\python\\python312\\lib\\site-packages (from keras>=2.0.0->mtcnn->keras_facenet) (3.11.0)\n",
      "Requirement already satisfied: optree in c:\\users\\nithy\\appdata\\local\\programs\\python\\python312\\lib\\site-packages (from keras>=2.0.0->mtcnn->keras_facenet) (0.12.1)\n",
      "Requirement already satisfied: ml-dtypes in c:\\users\\nithy\\appdata\\local\\programs\\python\\python312\\lib\\site-packages (from keras>=2.0.0->mtcnn->keras_facenet) (0.4.0)\n",
      "Requirement already satisfied: packaging in c:\\users\\nithy\\appdata\\local\\programs\\python\\python312\\lib\\site-packages (from keras>=2.0.0->mtcnn->keras_facenet) (24.1)\n",
      "Requirement already satisfied: typing-extensions>=4.5.0 in c:\\users\\nithy\\appdata\\local\\programs\\python\\python312\\lib\\site-packages (from optree->keras>=2.0.0->mtcnn->keras_facenet) (4.12.2)\n",
      "Requirement already satisfied: markdown-it-py>=2.2.0 in c:\\users\\nithy\\appdata\\local\\programs\\python\\python312\\lib\\site-packages (from rich->keras>=2.0.0->mtcnn->keras_facenet) (3.0.0)\n",
      "Requirement already satisfied: pygments<3.0.0,>=2.13.0 in c:\\users\\nithy\\appdata\\local\\programs\\python\\python312\\lib\\site-packages (from rich->keras>=2.0.0->mtcnn->keras_facenet) (2.18.0)\n",
      "Requirement already satisfied: mdurl~=0.1 in c:\\users\\nithy\\appdata\\local\\programs\\python\\python312\\lib\\site-packages (from markdown-it-py>=2.2.0->rich->keras>=2.0.0->mtcnn->keras_facenet) (0.1.2)\n",
      "Building wheels for collected packages: keras_facenet\n",
      "  Building wheel for keras_facenet (setup.py): started\n",
      "  Building wheel for keras_facenet (setup.py): finished with status 'done'\n",
      "  Created wheel for keras_facenet: filename=keras_facenet-0.3.2-py3-none-any.whl size=10388 sha256=2ef7d63abe7559c34f1a233d21ff19f467375f7e39cee9aa267675218db9c76c\n",
      "  Stored in directory: c:\\users\\nithy\\appdata\\local\\pip\\cache\\wheels\\05\\b0\\f5\\19ac49fedc10b1df3ee56b096edbcfa39d45794fccc6bcdbbf\n",
      "Successfully built keras_facenet\n",
      "Installing collected packages: keras_facenet\n",
      "Successfully installed keras_facenet-0.3.2\n"
     ]
    }
   ],
   "source": [
    "!pip install keras_facenet"
   ]
  },
  {
   "cell_type": "code",
   "execution_count": null,
   "id": "09b39ae3-8aa5-43a0-8529-77eba769af44",
   "metadata": {},
   "outputs": [],
   "source": []
  }
 ],
 "metadata": {
  "kernelspec": {
   "display_name": "venv",
   "language": "python",
   "name": "venv"
  },
  "language_info": {
   "codemirror_mode": {
    "name": "ipython",
    "version": 3
   },
   "file_extension": ".py",
   "mimetype": "text/x-python",
   "name": "python",
   "nbconvert_exporter": "python",
   "pygments_lexer": "ipython3",
   "version": "3.12.5"
  }
 },
 "nbformat": 4,
 "nbformat_minor": 5
}
